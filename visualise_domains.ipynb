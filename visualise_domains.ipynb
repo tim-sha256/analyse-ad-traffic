{
  "nbformat": 4,
  "nbformat_minor": 0,
  "metadata": {
    "colab": {
      "provenance": []
    },
    "kernelspec": {
      "name": "python3",
      "display_name": "Python 3"
    },
    "language_info": {
      "name": "python"
    }
  },
  "cells": [
    {
      "cell_type": "markdown",
      "source": [
        "# Hey!\n",
        "This simple file allows you to turn a .csv from the previous one - \"mitm_test.ipynb\" - into an interactive domain visulisation.\n",
        "\n",
        "\n",
        "\n",
        "\n",
        "\n",
        "---\n",
        "\n",
        "if you want to use multiple csvs - add them to the df_list and df_color_map.\n",
        "If you want to only use 1 app - please edit the df_list as well with the correct name and punctuation.\n",
        "\n",
        "---\n",
        "1. Every circle is a domain or a subdomain.\n",
        "\n",
        "  The hierarchy is represented by the inclusion of circles into others.\n",
        "Example: o-sdk.ads.unity3d.com is represented by 3 circles: o-sdk inside of ads inside of unity3d.\n",
        "2. Colors represent the app (I analysed 6~) that the request corresponds to.\n",
        "\n",
        "  I used low opacities for better visibility, and it turns out that in my mix of colors and their opacities purple is the combination of all of them.\n",
        "3. Circle sizes, or masses, represent the frequency: how often did this or that domain appear in the requests data.\n",
        "\n",
        "  See any insights?\n",
        "Unity rules the mobile game app traffic scene.\n",
        "For comparison, the g / doubleclick thing is Google Ad Network.\n",
        "\n",
        "---\n",
        "\n",
        "please save and open the resulting .html file in your browser - turns out it's very complicated to insert it inside the notebook."
      ],
      "metadata": {
        "id": "hsZTi8Jl7fBu"
      }
    },
    {
      "cell_type": "code",
      "execution_count": null,
      "metadata": {
        "id": "3_42EXen5hyD"
      },
      "outputs": [],
      "source": [
        "!pip install tldextract pyvis\n",
        "\n",
        "import pandas as pd\n",
        "import tldextract\n",
        "from collections import defaultdict\n",
        "import networkx as nx\n",
        "from pyvis.network import Network"
      ]
    },
    {
      "cell_type": "code",
      "source": [
        "appname_df = pd.read_csv(\"appname.csv\") # upload the csv created in the \"mitm_test\" notebook"
      ],
      "metadata": {
        "id": "a0uflIkI6mhD"
      },
      "execution_count": null,
      "outputs": []
    },
    {
      "cell_type": "code",
      "source": [
        "df_list = [(\"appname\", appname_df),\n",
        "           (\"otherapp\", otherapp_df)\n",
        "          #  ...\n",
        "           ]\n",
        "\n",
        "df_color_map = {\n",
        "    \"appname\": \"#e6194B\" #,  # red\n",
        "    # \"otherapp\": \"#3cb44b\",  # green\n",
        "    # \"someother\": \"#4363d8\",  # blue\n",
        "    # \"...\": \"#f58231\",  # orange\n",
        "    # \"iii\": \"#911eb4\",  # purple\n",
        "    # \"ooo\": \"#42d4f4\"\n",
        "}\n"
      ],
      "metadata": {
        "id": "CSSVTwp-53gZ"
      },
      "execution_count": null,
      "outputs": []
    },
    {
      "cell_type": "code",
      "source": [
        "def extract_domain_and_subdomains(url):\n",
        "    ext = tldextract.extract(url)\n",
        "    subdomains = ext.subdomain.split('.') if ext.subdomain else []\n",
        "    subdomains.reverse()\n",
        "    return [ext.domain] + subdomains\n",
        "\n",
        "def build_domain_tree(df_list):\n",
        "    domain_tree = {}\n",
        "    frequencies = defaultdict(int)\n",
        "    domain_to_dfs = defaultdict(set)\n",
        "\n",
        "    for df_name, df_obj in df_list:\n",
        "        urls = df_obj['url'].dropna().tolist()\n",
        "        for url in urls:\n",
        "            parts = extract_domain_and_subdomains(url)\n",
        "            for p in parts:\n",
        "                frequencies[p] += 1\n",
        "                domain_to_dfs[p].add(df_name)\n",
        "            # Build nested tree structure\n",
        "            current = domain_tree\n",
        "            for p in parts:\n",
        "                current = current.setdefault(p, {})\n",
        "    return domain_tree, frequencies, domain_to_dfs\n",
        "\n",
        "def tree_to_graph(domain_tree):\n",
        "    G = nx.DiGraph()\n",
        "    def add_edges(d, parent=None):\n",
        "        for node, subtree in d.items():\n",
        "            if parent is not None:\n",
        "                G.add_edge(parent, node)\n",
        "            add_edges(subtree, node)\n",
        "    add_edges(domain_tree)\n",
        "    return G\n",
        "\n",
        "def hex_to_rgb(hex_color):\n",
        "    hex_color = hex_color.strip('#')\n",
        "    return tuple(int(hex_color[i:i+2], 16) for i in (0, 2, 4))\n",
        "\n",
        "def rgb_to_rgba(r, g, b, alpha=0.2):\n",
        "    return f\"rgba({r},{g},{b},{alpha})\"\n",
        "\n",
        "def mix_colors(hex_colors, alpha=0.2):\n",
        "    if not hex_colors:\n",
        "        return \"rgba(153,153,153,0.2)\"  # default gray\n",
        "    rgbs = [hex_to_rgb(color) for color in hex_colors]\n",
        "    avg_r = int(sum(c[0] for c in rgbs) / len(rgbs))\n",
        "    avg_g = int(sum(c[1] for c in rgbs) / len(rgbs))\n",
        "    avg_b = int(sum(c[2] for c in rgbs) / len(rgbs))\n",
        "    return rgb_to_rgba(avg_r, avg_g, avg_b, alpha)\n",
        "\n",
        "def visualize_pyvis(G, frequencies, domain_to_dfs, df_color_map, html_file=\"combined_domains.html\"):\n",
        "    net = Network(height=\"700px\", width=\"100%\", notebook=True, directed=True, cdn_resources='in_line')\n",
        "\n",
        "    # set custom physics options using JSON configuration - this is some complex stuff\n",
        "    net.set_options(\"\"\"\n",
        "    var options = {\n",
        "      \"physics\": {\n",
        "        \"barnesHut\": {\n",
        "          \"gravitationalConstant\": -1000,\n",
        "          \"centralGravity\": 0.05,\n",
        "          \"springLength\": 200,\n",
        "          \"springConstant\": 0.04,\n",
        "          \"damping\": 0.09,\n",
        "          \"avoidOverlap\": 0.5\n",
        "        },\n",
        "        \"minVelocity\": 0.75\n",
        "      }\n",
        "    }\n",
        "    \"\"\")\n",
        "\n",
        "    for node in G.nodes():\n",
        "        freq = frequencies[node]\n",
        "        df_names = domain_to_dfs[node]\n",
        "        hex_colors = [df_color_map[df_name] for df_name in df_names] if df_names else []\n",
        "        node_color = mix_colors(hex_colors, alpha=0.2)\n",
        "\n",
        "        font_size = max(11, int(freq * 1.5))\n",
        "        node_size = freq * 8\n",
        "\n",
        "        tooltip = (\n",
        "            f\"{node}\"\n",
        "            f\"Frequency: {freq}\"\n",
        "            f\"Dataframes: {', '.join(df_names) if df_names else 'None'}\"\n",
        "        )\n",
        "\n",
        "        net.add_node(\n",
        "            node,\n",
        "            label=node,\n",
        "            size=node_size,\n",
        "            color=node_color,\n",
        "            font={'size': font_size, 'color': '#222'},\n",
        "            title=tooltip\n",
        "        )\n",
        "\n",
        "    for source, target in G.edges():\n",
        "        net.add_edge(source, target)\n",
        "\n",
        "    net.show(html_file)\n",
        "    print(f\"visualization saved to {html_file}.\")"
      ],
      "metadata": {
        "id": "Nl_amuKc5lCn"
      },
      "execution_count": null,
      "outputs": []
    },
    {
      "cell_type": "code",
      "source": [
        "domain_tree, frequencies, domain_to_dfs = build_domain_tree(df_list)\n",
        "G = tree_to_graph(domain_tree)\n",
        "\n",
        "visualize_pyvis(G, frequencies, domain_to_dfs, df_color_map, \"ad_domains.html\")"
      ],
      "metadata": {
        "id": "OQtP2Zv26UVv"
      },
      "execution_count": null,
      "outputs": []
    }
  ]
}